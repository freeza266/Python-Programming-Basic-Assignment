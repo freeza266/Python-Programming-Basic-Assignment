{
 "cells": [
  {
   "cell_type": "code",
   "execution_count": null,
   "id": "ab92d143",
   "metadata": {},
   "outputs": [],
   "source": [
    "1. Write a Python program to find words which are greater than given length k?"
   ]
  },
  {
   "cell_type": "code",
   "execution_count": 1,
   "id": "779a5917",
   "metadata": {},
   "outputs": [],
   "source": [
    "#Answer:\n",
    "def greaterthan(sentense):\n",
    "    words = []\n",
    "    split = sentense.split(\" \")\n",
    "    print(split)\n",
    "    k = int(input(\"Enter length: \"))\n",
    "    for i in split:\n",
    "        if len(i)>k:\n",
    "            words.append(i)\n",
    "    return words"
   ]
  },
  {
   "cell_type": "code",
   "execution_count": 4,
   "id": "be7cb5f8",
   "metadata": {},
   "outputs": [
    {
     "name": "stdout",
     "output_type": "stream",
     "text": [
      "['Hello,', 'Gaurav', 'Satam', 'here']\n",
      "Enter length: 4\n"
     ]
    },
    {
     "data": {
      "text/plain": [
       "['Hello,', 'Gaurav', 'Satam']"
      ]
     },
     "execution_count": 4,
     "metadata": {},
     "output_type": "execute_result"
    }
   ],
   "source": [
    "greaterthan(\"Hello, Gaurav Satam here\")"
   ]
  },
  {
   "cell_type": "code",
   "execution_count": null,
   "id": "3f9387a7",
   "metadata": {},
   "outputs": [],
   "source": [
    "2. Write a Python program for removing i-th character from a string?"
   ]
  },
  {
   "cell_type": "code",
   "execution_count": 5,
   "id": "bb8dcf80",
   "metadata": {},
   "outputs": [],
   "source": [
    "#Answer:\n",
    "def remove_char(sentense):\n",
    "    split = sentense.split(\" \")\n",
    "    i_th = int(input(\"Enter position: \"))\n",
    "    for i in split:\n",
    "        if split[i_th]==i:\n",
    "            split.remove(i)\n",
    "    sentense = \" \".join(split)\n",
    "    return sentense"
   ]
  },
  {
   "cell_type": "code",
   "execution_count": 6,
   "id": "fc1c394f",
   "metadata": {},
   "outputs": [
    {
     "name": "stdout",
     "output_type": "stream",
     "text": [
      "Enter position: 5\n"
     ]
    },
    {
     "data": {
      "text/plain": [
       "'hello world this is Gaurav'"
      ]
     },
     "execution_count": 6,
     "metadata": {},
     "output_type": "execute_result"
    }
   ],
   "source": [
    "remove_char(\"hello world this is Gaurav Satam\")"
   ]
  },
  {
   "cell_type": "code",
   "execution_count": null,
   "id": "282a7bbe",
   "metadata": {},
   "outputs": [],
   "source": [
    "3. Write a Python program to split and join a string?"
   ]
  },
  {
   "cell_type": "code",
   "execution_count": 7,
   "id": "d8d68c4e",
   "metadata": {},
   "outputs": [],
   "source": [
    "#Answer:\n",
    "def split_join(sentense):\n",
    "    split = sentense.split()\n",
    "    print(\"Splited sentense: \",split)\n",
    "    join  = ' '.join(split)\n",
    "    print(\"sentense joined is: \",join)"
   ]
  },
  {
   "cell_type": "code",
   "execution_count": 8,
   "id": "7b338b87",
   "metadata": {},
   "outputs": [
    {
     "name": "stdout",
     "output_type": "stream",
     "text": [
      "Splited sentense:  ['My', 'name', 'is', 'Gaurav', 'Satam']\n",
      "sentense joined is:  My name is Gaurav Satam\n"
     ]
    }
   ],
   "source": [
    "split_join(\"My name is Gaurav Satam\")"
   ]
  },
  {
   "cell_type": "code",
   "execution_count": null,
   "id": "b198058f",
   "metadata": {},
   "outputs": [],
   "source": [
    "4. Write a Python to check if a given string is binary string or not?"
   ]
  },
  {
   "cell_type": "code",
   "execution_count": 9,
   "id": "259b7054",
   "metadata": {},
   "outputs": [],
   "source": [
    "#Answer:\n",
    "def binary_check(string):\n",
    "    arrange = set(string)\n",
    "    binary = {'0','1'}\n",
    "    \n",
    "    if binary == arrange or arrange=={'0'} or arrange == {'1'}:\n",
    "        print(\"String is binary\")\n",
    "    else:\n",
    "        print(\"String not binary\")"
   ]
  },
  {
   "cell_type": "code",
   "execution_count": 10,
   "id": "ffd12495",
   "metadata": {},
   "outputs": [
    {
     "name": "stdout",
     "output_type": "stream",
     "text": [
      "String is binary\n"
     ]
    }
   ],
   "source": [
    "binary_check(\"10100110\")"
   ]
  },
  {
   "cell_type": "code",
   "execution_count": 11,
   "id": "9327ba2a",
   "metadata": {},
   "outputs": [
    {
     "name": "stdout",
     "output_type": "stream",
     "text": [
      "String not binary\n"
     ]
    }
   ],
   "source": [
    "binary_check(\"iNeuron\")"
   ]
  },
  {
   "cell_type": "code",
   "execution_count": null,
   "id": "43ed8bfc",
   "metadata": {},
   "outputs": [],
   "source": [
    "5. Write a Python program to find uncommon words from two Strings?"
   ]
  },
  {
   "cell_type": "code",
   "execution_count": 13,
   "id": "8ff0c750",
   "metadata": {},
   "outputs": [
    {
     "name": "stdout",
     "output_type": "stream",
     "text": [
      "Enter String: hello world Gaurav\n",
      "Enter String: hello world Satam\n",
      "['hello', 'world', 'Gaurav'] \n",
      " ['hello', 'world', 'Satam']\n",
      "['Gaurav', 'Satam']\n"
     ]
    }
   ],
   "source": [
    "#Answer:\n",
    "string1 = str(input(\"Enter String: \"))\n",
    "string2 = str(input(\"Enter String: \"))\n",
    "a = string1.split()\n",
    "b = string2.split()\n",
    "print(a,\"\\n\", b)\n",
    "UC = []\n",
    "for i in a:\n",
    "    if i not in b:\n",
    "        UC.append(i)\n",
    "for j in b:\n",
    "    if j not in a:\n",
    "        UC.append(j)\n",
    "print(UC)"
   ]
  },
  {
   "cell_type": "code",
   "execution_count": null,
   "id": "35e2f9bb",
   "metadata": {},
   "outputs": [],
   "source": [
    "6. Write a Python to find all duplicate characters in string?"
   ]
  },
  {
   "cell_type": "code",
   "execution_count": 14,
   "id": "f123ef01",
   "metadata": {},
   "outputs": [
    {
     "name": "stdout",
     "output_type": "stream",
     "text": [
      "Enter string:  hello world\n",
      "Duplicate characters are:  ['l', 'o', 'l']\n"
     ]
    }
   ],
   "source": [
    "#Answer:\n",
    "string = str(input(\"Enter string:  \"))\n",
    "char = []\n",
    "duplicate = []\n",
    "for i in string:\n",
    "    if i  not in char:\n",
    "        char.append(i)\n",
    "    else:\n",
    "        duplicate.append(i)\n",
    "print(\"Duplicate characters are: \" ,duplicate)"
   ]
  },
  {
   "cell_type": "code",
   "execution_count": null,
   "id": "daf40dd3",
   "metadata": {},
   "outputs": [],
   "source": [
    "7. Write a Python Program to check if a string contains any special character?"
   ]
  },
  {
   "cell_type": "code",
   "execution_count": 15,
   "id": "e6f9f2dd",
   "metadata": {},
   "outputs": [
    {
     "name": "stdout",
     "output_type": "stream",
     "text": [
      "Enter string: G@ur@v#\n",
      "Special Char @ found in given string\n",
      "Special Char @ found in given string\n",
      "Special Char # found in given string\n"
     ]
    }
   ],
   "source": [
    "#Answer:\n",
    "spl_char = '[@_!#$%^&*()<>?/\\|}{~:]'\n",
    "string = str(input(\"Enter string: \"))\n",
    "\n",
    "for i in string:\n",
    "    if i not in spl_char:\n",
    "        continue\n",
    "        \n",
    "    else:\n",
    "        print(\"Special Char {} found in given string\".format(i))"
   ]
  }
 ],
 "metadata": {
  "kernelspec": {
   "display_name": "Python 3",
   "language": "python",
   "name": "python3"
  },
  "language_info": {
   "codemirror_mode": {
    "name": "ipython",
    "version": 3
   },
   "file_extension": ".py",
   "mimetype": "text/x-python",
   "name": "python",
   "nbconvert_exporter": "python",
   "pygments_lexer": "ipython3",
   "version": "3.8.8"
  }
 },
 "nbformat": 4,
 "nbformat_minor": 5
}
