{
 "cells": [
  {
   "cell_type": "code",
   "execution_count": null,
   "id": "b4e88658",
   "metadata": {},
   "outputs": [],
   "source": [
    "1. Write a Python program to Extract Unique values dictionary values?"
   ]
  },
  {
   "cell_type": "code",
   "execution_count": 1,
   "id": "d9d03011",
   "metadata": {},
   "outputs": [
    {
     "name": "stdout",
     "output_type": "stream",
     "text": [
      "['Gaurav', 'Kunal', 'Aditya', 'Manas', 'Atul']\n"
     ]
    }
   ],
   "source": [
    "#Answer:\n",
    "d = {'101':'Gaurav','102':'Kunal','103':'Aditya','104':'Manas','105':'Atul'}\n",
    "l = []\n",
    "for val in d.values():\n",
    "    if val in l:\n",
    "        continue\n",
    "    else:\n",
    "        l.append(val)\n",
    "        \n",
    "print(l) "
   ]
  },
  {
   "cell_type": "code",
   "execution_count": null,
   "id": "b336a84e",
   "metadata": {},
   "outputs": [],
   "source": [
    "2. Write a Python program to find the sum of all items in a dictionary?"
   ]
  },
  {
   "cell_type": "code",
   "execution_count": 2,
   "id": "ee82ace1",
   "metadata": {},
   "outputs": [
    {
     "name": "stdout",
     "output_type": "stream",
     "text": [
      "810\n"
     ]
    }
   ],
   "source": [
    "#Answer:\n",
    "d = {'a':[110,120],'b':[130,140],'c':[150,160]}\n",
    "l = []\n",
    "for i in d.values():\n",
    "    for j in i:\n",
    "        l.append(j)\n",
    "print(sum(l))"
   ]
  },
  {
   "cell_type": "code",
   "execution_count": null,
   "id": "b145a110",
   "metadata": {},
   "outputs": [],
   "source": [
    "3. Write a Python program to Merging two Dictionaries?"
   ]
  },
  {
   "cell_type": "code",
   "execution_count": 3,
   "id": "60490f1a",
   "metadata": {},
   "outputs": [
    {
     "data": {
      "text/plain": [
       "{'d': 400, 'e': 500, 'f': 600, 'a': 100, 'b': 200, 'c': 300}"
      ]
     },
     "execution_count": 3,
     "metadata": {},
     "output_type": "execute_result"
    }
   ],
   "source": [
    "#Answer:\n",
    "d1 = {'a':100,'b':200,'c':300}\n",
    "d2 = {'d':400,'e':500,'f':600}\n",
    "d2.update(d1)\n",
    "d2"
   ]
  },
  {
   "cell_type": "code",
   "execution_count": null,
   "id": "fea5564f",
   "metadata": {},
   "outputs": [],
   "source": [
    "4. Write a Python program to convert key-values list to flat dictionary?"
   ]
  },
  {
   "cell_type": "code",
   "execution_count": 4,
   "id": "98f932ee",
   "metadata": {},
   "outputs": [
    {
     "name": "stdout",
     "output_type": "stream",
     "text": [
      "List ['a', 110, 'b', 120, 'c', 130, 'd', 140, 'e', 150, 'f', 160] to \n",
      " Dictionary {'a': 110, 'b': 120, 'c': 130, 'd': 140, 'e': 150, 'f': 160}\n"
     ]
    }
   ],
   "source": [
    "#Answer:\n",
    "l = ['a',110,'b',120,'c',130,'d',140,'e',150,'f',160]\n",
    "l1= []\n",
    "l2= []\n",
    "for i in range(0,len(l),2):\n",
    "    l1.append(l[i])\n",
    "\n",
    "for j in range(1,len(l),2):\n",
    "    if j not in l1:\n",
    "        l2.append(l[j])\n",
    "#print(l1)\n",
    "#print(l2)\n",
    "\n",
    "d = dict(zip(l1,l2))\n",
    "print(\"List {} to \\n Dictionary {}\".format(l,d)) "
   ]
  },
  {
   "cell_type": "code",
   "execution_count": null,
   "id": "3f4560b1",
   "metadata": {},
   "outputs": [],
   "source": [
    "5. Write a Python program to insertion at the beginning in OrderedDict?"
   ]
  },
  {
   "cell_type": "code",
   "execution_count": 5,
   "id": "36b84e51",
   "metadata": {},
   "outputs": [],
   "source": [
    "#Answer:\n",
    "from collections import OrderedDict"
   ]
  },
  {
   "cell_type": "code",
   "execution_count": 6,
   "id": "66c444d1",
   "metadata": {},
   "outputs": [
    {
     "name": "stdout",
     "output_type": "stream",
     "text": [
      "OrderedDict([('a', 110), ('b', 120), ('c', 130), ('d', 140), ('e', 150), ('f', 160)])\n",
      "OrderedDict([('a', 110), ('b', 120), ('c', 130), ('d', 140), ('e', 150), ('f', 160), ('g', 770)])\n",
      "OrderedDict([('g', 770), ('a', 110), ('b', 120), ('c', 130), ('d', 140), ('e', 150), ('f', 160)])\n"
     ]
    }
   ],
   "source": [
    "d = {'a': 110, 'b': 120, 'c': 130, 'd': 140, 'e': 150, 'f': 160}\n",
    "od = OrderedDict(d)\n",
    "print(od)\n",
    "od['g'] = 770\n",
    "print(od)\n",
    "od.move_to_end('g', False)\n",
    "print(od)"
   ]
  },
  {
   "cell_type": "code",
   "execution_count": null,
   "id": "162ba812",
   "metadata": {},
   "outputs": [],
   "source": [
    "6. Write a Python program to check order of character in string using OrderedDict()?"
   ]
  },
  {
   "cell_type": "code",
   "execution_count": 7,
   "id": "acda334e",
   "metadata": {},
   "outputs": [
    {
     "name": "stdout",
     "output_type": "stream",
     "text": [
      "{'a': 1000, 'f': 200, 'd': 300, 'c': 400, 'b': 500, 'e': 600}\n",
      "OrderedDict([('a', 1000), ('b', 500), ('c', 400), ('d', 300), ('e', 600), ('f', 200)])\n"
     ]
    }
   ],
   "source": [
    "#Answer:\n",
    "unordered = {'a': 1000, 'f': 200, 'd': 300, 'c': 400, 'b': 500, 'e': 600}\n",
    "print(unordered)\n",
    "od = OrderedDict(sorted(unordered.items()))\n",
    "print(od)"
   ]
  },
  {
   "cell_type": "code",
   "execution_count": null,
   "id": "843064a4",
   "metadata": {},
   "outputs": [],
   "source": [
    "7. Write a Python program to sort Python Dictionaries by Key or Value?"
   ]
  },
  {
   "cell_type": "code",
   "execution_count": 8,
   "id": "9080fb69",
   "metadata": {},
   "outputs": [
    {
     "name": "stdout",
     "output_type": "stream",
     "text": [
      "Sorted by key:  [('a', 1000), ('b', 500), ('c', 400), ('d', 300), ('e', 600), ('f', 200)]\n"
     ]
    }
   ],
   "source": [
    "#Answer:\n",
    "d = {'a': 1000, 'f': 200, 'd': 300, 'c': 400, 'b': 500, 'e': 600}\n",
    "sort = sorted(d.items())\n",
    "\n",
    "print(\"Sorted by key: \",sort)"
   ]
  }
 ],
 "metadata": {
  "kernelspec": {
   "display_name": "Python 3",
   "language": "python",
   "name": "python3"
  },
  "language_info": {
   "codemirror_mode": {
    "name": "ipython",
    "version": 3
   },
   "file_extension": ".py",
   "mimetype": "text/x-python",
   "name": "python",
   "nbconvert_exporter": "python",
   "pygments_lexer": "ipython3",
   "version": "3.8.8"
  }
 },
 "nbformat": 4,
 "nbformat_minor": 5
}
