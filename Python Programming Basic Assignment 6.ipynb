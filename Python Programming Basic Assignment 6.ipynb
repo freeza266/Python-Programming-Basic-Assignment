{
 "cells": [
  {
   "cell_type": "code",
   "execution_count": null,
   "id": "bfe039ef",
   "metadata": {},
   "outputs": [],
   "source": [
    "1. Write a Python Program to Display Fibonacci Sequence Using Recursion?"
   ]
  },
  {
   "cell_type": "code",
   "execution_count": 1,
   "id": "993e46e9",
   "metadata": {},
   "outputs": [
    {
     "name": "stdout",
     "output_type": "stream",
     "text": [
      "Required length of the series: 20\n",
      "0\n",
      "1\n",
      "1\n",
      "2\n",
      "3\n",
      "5\n",
      "8\n",
      "13\n",
      "21\n",
      "34\n",
      "55\n",
      "89\n",
      "144\n",
      "233\n",
      "377\n",
      "610\n",
      "987\n",
      "1597\n",
      "2584\n",
      "4181\n",
      "None\n"
     ]
    }
   ],
   "source": [
    "#Answer:\n",
    "def fibonacci(a,b,n):\n",
    "    if n==0:\n",
    "        return\n",
    "    result = a+b\n",
    "    print(result)\n",
    "    fibonacci(b, result, n-1 )\n",
    "\n",
    "n1 = 0\n",
    "n2 = 1\n",
    "n = int(input(\"Required length of the series: \"))\n",
    "print(n1)\n",
    "print(n2)\n",
    "\n",
    "print(fibonacci(n1,n2,n-2)) # n-2 because intially two numbers are already taken i.e. n1 and n2"
   ]
  },
  {
   "cell_type": "code",
   "execution_count": null,
   "id": "cf88be18",
   "metadata": {},
   "outputs": [],
   "source": [
    "2. Write a Python Program to Find Factorial of Number Using Recursion?"
   ]
  },
  {
   "cell_type": "code",
   "execution_count": 2,
   "id": "c3c00f4b",
   "metadata": {},
   "outputs": [
    {
     "data": {
      "text/plain": [
       "3628800"
      ]
     },
     "execution_count": 2,
     "metadata": {},
     "output_type": "execute_result"
    }
   ],
   "source": [
    "#Answer:\n",
    "def fact(n):\n",
    "    if n==0:\n",
    "        return 1\n",
    "    return n*fact(n-1)\n",
    "\n",
    "fact(10)"
   ]
  },
  {
   "cell_type": "code",
   "execution_count": null,
   "id": "3f19ebc1",
   "metadata": {},
   "outputs": [],
   "source": [
    "3. Write a Python Program to calculate your Body Mass Index?"
   ]
  },
  {
   "cell_type": "code",
   "execution_count": 3,
   "id": "fe257f81",
   "metadata": {},
   "outputs": [
    {
     "name": "stdout",
     "output_type": "stream",
     "text": [
      "Enter weight in kg: 70\n",
      "70.0 kg\n",
      "Enter height in m: 1\n",
      "1.0 m\n",
      "Your BMI is:  70.0\n",
      "overweight\n"
     ]
    }
   ],
   "source": [
    "#Answer:\n",
    "def bmi(wt,ht):\n",
    "    result = wt/ht**2\n",
    "    print(\"Your BMI is: \",result)\n",
    "    if result>= 18.5 and result<=24.9:\n",
    "        print(\"Healthy Range\")\n",
    "    elif result<18.5:\n",
    "        print(\"Underweight\")\n",
    "    else:\n",
    "        print(\"overweight\")\n",
    "    \n",
    "weight = float(input(\"Enter weight in kg: \"))\n",
    "print(weight,\"kg\")\n",
    "height = float(input(\"Enter height in m: \"))\n",
    "print(height,\"m\")\n",
    "\n",
    "bmi(weight,height)"
   ]
  },
  {
   "cell_type": "code",
   "execution_count": null,
   "id": "ff7815eb",
   "metadata": {},
   "outputs": [],
   "source": [
    "4. Write a Python Program to calculate the natural logarithm of any number?"
   ]
  },
  {
   "cell_type": "code",
   "execution_count": 4,
   "id": "c646cde7",
   "metadata": {},
   "outputs": [
    {
     "name": "stdout",
     "output_type": "stream",
     "text": [
      "Enter any number: 20\n",
      "2.995732273553991\n"
     ]
    }
   ],
   "source": [
    "#Answer:\n",
    "import math\n",
    "n = float(input(\"Enter any number: \"))\n",
    "print(math.log(n))"
   ]
  },
  {
   "cell_type": "code",
   "execution_count": null,
   "id": "50bcba47",
   "metadata": {},
   "outputs": [],
   "source": [
    "5. Write a Python Program for cube sum of first n natural numbers?"
   ]
  },
  {
   "cell_type": "code",
   "execution_count": 5,
   "id": "ff1080f9",
   "metadata": {},
   "outputs": [
    {
     "name": "stdout",
     "output_type": "stream",
     "text": [
      "784\n"
     ]
    }
   ],
   "source": [
    "#Answer:\n",
    "def cube_sum(n):\n",
    "    result = 0\n",
    "    for i in range(1,n+1):\n",
    "        result = result+(i*i*i)\n",
    "    return result\n",
    "\n",
    "\n",
    "print(cube_sum(7))"
   ]
  }
 ],
 "metadata": {
  "kernelspec": {
   "display_name": "Python 3",
   "language": "python",
   "name": "python3"
  },
  "language_info": {
   "codemirror_mode": {
    "name": "ipython",
    "version": 3
   },
   "file_extension": ".py",
   "mimetype": "text/x-python",
   "name": "python",
   "nbconvert_exporter": "python",
   "pygments_lexer": "ipython3",
   "version": "3.8.8"
  }
 },
 "nbformat": 4,
 "nbformat_minor": 5
}
