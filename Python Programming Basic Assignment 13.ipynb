{
 "cells": [
  {
   "cell_type": "code",
   "execution_count": null,
   "id": "5dac3185",
   "metadata": {},
   "outputs": [],
   "source": [
    "Q.1. Write a program that calculates and prints the value according to the given formula:\n",
    "Q = Square root of [(2 C D)/H]\n",
    "Following are the fixed values of C and H:\n",
    "C is 50. H is 30.\n",
    "D is the variable whose values should be input to your program in a comma-separated\n",
    "sequence.\n",
    "Example\n",
    "Let us assume the following comma separated input sequence is given to the program:\n",
    "100,150,180\n",
    "The output of the program should be:\n",
    "18,22,24"
   ]
  },
  {
   "cell_type": "code",
   "execution_count": 2,
   "id": "664c65e9",
   "metadata": {},
   "outputs": [
    {
     "name": "stdout",
     "output_type": "stream",
     "text": [
      "Enter the Input: 100, 150, 180\n",
      "Output: 18,22,24\n"
     ]
    }
   ],
   "source": [
    "#Answer:\n",
    "from math import sqrt\n",
    "def calculateProgram():\n",
    "    in_num = eval(input(\"Enter the Input: \"))\n",
    "    out_num = []\n",
    "    C = 50 # Declaring and initializing constant C\n",
    "    H = 30 # Declaring and initializing constant H\n",
    "    for ele in in_num:\n",
    "        Q = str(int(sqrt((2*C*ele)/H)))\n",
    "        out_num.append(Q)\n",
    "    print(\"Output: {}\".format(','.join(out_num)))\n",
    "    \n",
    "calculateProgram()"
   ]
  },
  {
   "cell_type": "code",
   "execution_count": null,
   "id": "716e6614",
   "metadata": {},
   "outputs": [],
   "source": [
    "Question 2:\n",
    "Write a program which takes 2 digits, X,Y as input and generates a 2-dimensional array. The\n",
    "element value in the i-th row and j-th column of the array should be i*j.\n",
    "Note: i=0,1.., X-1; j=0,1,¡Y-1.\n",
    "Example\n",
    "Suppose the following inputs are given to the program:\n",
    "3,5\n",
    "Then, the output of the program should be:\n",
    "[[0, 0, 0, 0, 0], [0, 1, 2, 3, 4], [0, 2, 4, 6, 8]]"
   ]
  },
  {
   "cell_type": "code",
   "execution_count": 5,
   "id": "3b0d3240",
   "metadata": {},
   "outputs": [
    {
     "name": "stdout",
     "output_type": "stream",
     "text": [
      "Enter the No of Rows:3\n",
      "Enter the No of Columns:5\n",
      "[[0, 0, 0, 0, 0], [0, 1, 2, 3, 4], [0, 2, 4, 6, 8]]\n"
     ]
    }
   ],
   "source": [
    "#Answer:\n",
    "import array as arr\n",
    "def generateArray():\n",
    "    in_x = int(input('Enter the No of Rows:'))\n",
    "    in_y = int(input('Enter the No of Columns:')) \n",
    "    out_array = []\n",
    "    for ele in range(in_x):\n",
    "        out_array.insert(in_x,[])\n",
    "        for sub_ele in range(in_y):\n",
    "            out_array[ele].append(ele*sub_ele)\n",
    "    print(out_array)\n",
    "    \n",
    "generateArray()"
   ]
  },
  {
   "cell_type": "code",
   "execution_count": null,
   "id": "133ed7c6",
   "metadata": {},
   "outputs": [],
   "source": [
    "Question 3:\n",
    "Write a program that accepts a comma separated sequence of words as input and prints the\n",
    "words in a comma-separated sequence after sorting them alphabetically.\n",
    "Suppose the following input is supplied to the program:\n",
    "without,hello,bag,world\n",
    "Then, the output should be:\n",
    "bag,hello,without,world"
   ]
  },
  {
   "cell_type": "code",
   "execution_count": 6,
   "id": "08b311ed",
   "metadata": {},
   "outputs": [
    {
     "name": "stdout",
     "output_type": "stream",
     "text": [
      "Enter values:\n",
      "without,hello,bag,world\n",
      "bag,hello,without,world,"
     ]
    }
   ],
   "source": [
    "#Answer:\n",
    "strings = [str(i) for i in input(\"Enter values:\\n\").split(',')]\n",
    "strings.sort()\n",
    "for k in strings:\n",
    "    print(k, end = \",\")"
   ]
  },
  {
   "cell_type": "code",
   "execution_count": null,
   "id": "1810c746",
   "metadata": {},
   "outputs": [],
   "source": [
    "Question 4:\n",
    "Write a program that accepts a sequence of whitespace separated words as input and prints\n",
    "the words after removing all duplicate words and sorting them alphanumerically.\n",
    "Suppose the following input is supplied to the program:\n",
    "hello world and practice makes perfect and hello world again\n",
    "Then, the output should be:\n",
    "again and hello makes perfect practice world"
   ]
  },
  {
   "cell_type": "code",
   "execution_count": 7,
   "id": "96728309",
   "metadata": {},
   "outputs": [
    {
     "name": "stdout",
     "output_type": "stream",
     "text": [
      "Enter words:\n",
      "hello world and practice makes perfect and hello world again\n",
      "\n",
      "Alphanumerically sorted words are as follows:\n",
      "again and hello makes perfect practice world "
     ]
    }
   ],
   "source": [
    "#Answer:\n",
    "words = [str(i) for i in input(\"Enter words:\\n\").split(' ')]\n",
    "words.sort()\n",
    "c = []\n",
    "for k in words:\n",
    "    c.append(k)\n",
    "#print(c)\n",
    "alphanum = []\n",
    "for i in c:\n",
    "    if i not in alphanum:\n",
    "        alphanum.append(i)\n",
    "print()\n",
    "print(\"Alphanumerically sorted words are as follows:\")\n",
    "for j in alphanum:\n",
    "    print(j,end = \" \")"
   ]
  },
  {
   "cell_type": "code",
   "execution_count": null,
   "id": "e94f3c85",
   "metadata": {},
   "outputs": [],
   "source": [
    "Question 5:\n",
    "Write a program that accepts a sentence and calculate the number of letters and digits.\n",
    "Suppose the following input is supplied to the program:\n",
    "hello world! 123\n",
    "Then, the output should be:\n",
    "LETTERS 10\n",
    "DIGITS 3"
   ]
  },
  {
   "cell_type": "code",
   "execution_count": 8,
   "id": "efc3e731",
   "metadata": {},
   "outputs": [
    {
     "name": "stdout",
     "output_type": "stream",
     "text": [
      "Enter sentense: hello world! 123\n",
      "LETTERS 10 \n",
      " DIGITS 3\n"
     ]
    }
   ],
   "source": [
    "#Answer:\n",
    "sentence = str(input(\"Enter sentense: \"))\n",
    "letters = 0\n",
    "digits = 0\n",
    "\n",
    "for i in sentence:\n",
    "    if i.isalpha():\n",
    "        letters = letters+1\n",
    "    elif i.isdigit():\n",
    "        digits = digits+1\n",
    "    else:\n",
    "        pass\n",
    "     \n",
    "print(\"LETTERS {} \\n DIGITS {}\".format(letters,digits))"
   ]
  },
  {
   "cell_type": "code",
   "execution_count": null,
   "id": "db7987f2",
   "metadata": {},
   "outputs": [],
   "source": [
    "Question 6:\n",
    "A website requires the users to input username and password to register. Write a program to\n",
    "check the validity of password input by users.\n",
    "Following are the criteria for checking the password:\n",
    "1. At least 1 letter between [a-z]\n",
    "2. At least 1 number between [0-9]\n",
    "1. At least 1 letter between [A-Z]\n",
    "3. At least 1 character from [$#@]\n",
    "4. Minimum length of transaction password: 6\n",
    "5. Maximum length of transaction password: 12\n",
    "Your program should accept a sequence of comma separated passwords and will check them\n",
    "according to the above criteria. Passwords that match the criteria are to be printed, each\n",
    "separated by a comma.\n",
    "Example\n",
    "If the following passwords are given as input to the program:\n",
    "ABd1234@1,a F1#,2w3E*,2We3345\n",
    "Then, the output of the program should be:\n",
    "ABd1234@1"
   ]
  },
  {
   "cell_type": "code",
   "execution_count": 9,
   "id": "f5aae00f",
   "metadata": {},
   "outputs": [
    {
     "name": "stdout",
     "output_type": "stream",
     "text": [
      "Enter passwords:\n",
      "ABd1234@1,a F1#,2w3E*,2We3345\n",
      "\n",
      "Correct password is: \n",
      "ABd1234@1 "
     ]
    }
   ],
   "source": [
    "#Answer:\n",
    "passwords = [str(i) for i in input(\"Enter passwords:\\n\").split(\",\")]\n",
    "spl_char = [\"$\",\"#\",\"@\"]\n",
    "correctpass = []\n",
    "for i in passwords:\n",
    "    if (len(i)<6 or len(i)>12):\n",
    "        continue\n",
    "    if (i.isupper() or i.islower()):\n",
    "        continue\n",
    "    num = any(j.isdigit() for j in i)\n",
    "    if (not num):\n",
    "        continue\n",
    "    spl = any(j in spl_char for j in i)\n",
    "    if (not spl):\n",
    "        continue\n",
    "    \n",
    "    correctpass.append(i)\n",
    "print()\n",
    "print(\"Correct password is: \")\n",
    "for k in correctpass:\n",
    "    print(k,end = \" \")"
   ]
  }
 ],
 "metadata": {
  "kernelspec": {
   "display_name": "Python 3",
   "language": "python",
   "name": "python3"
  },
  "language_info": {
   "codemirror_mode": {
    "name": "ipython",
    "version": 3
   },
   "file_extension": ".py",
   "mimetype": "text/x-python",
   "name": "python",
   "nbconvert_exporter": "python",
   "pygments_lexer": "ipython3",
   "version": "3.8.8"
  }
 },
 "nbformat": 4,
 "nbformat_minor": 5
}
