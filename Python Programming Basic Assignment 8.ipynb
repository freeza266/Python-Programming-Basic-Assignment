{
 "cells": [
  {
   "cell_type": "code",
   "execution_count": null,
   "id": "14fba30c",
   "metadata": {},
   "outputs": [],
   "source": [
    "1. Write a Python Program to Add Two Matrices?"
   ]
  },
  {
   "cell_type": "code",
   "execution_count": 1,
   "id": "60ee9f2d",
   "metadata": {},
   "outputs": [
    {
     "name": "stdout",
     "output_type": "stream",
     "text": [
      "Enter matrix a: \n",
      "1\n",
      "2\n",
      "3\n",
      "4\n",
      "5\n",
      "6\n",
      "7\n",
      "8\n",
      "9\n",
      "Matrix a is  [[1, 2, 3], [4, 5, 6], [7, 8, 9]]\n",
      "Enter matrix b: \n",
      "9\n",
      "8\n",
      "7\n",
      "6\n",
      "5\n",
      "4\n",
      "3\n",
      "2\n",
      "1\n",
      "matrix b is  [[9, 8, 7], [6, 5, 4], [3, 2, 1]]\n"
     ]
    },
    {
     "data": {
      "text/plain": [
       "[[10, 10, 10], [10, 10, 10], [10, 10, 10]]"
      ]
     },
     "execution_count": 1,
     "metadata": {},
     "output_type": "execute_result"
    }
   ],
   "source": [
    "#Answer:\n",
    "def sum(a,b):\n",
    "    output = []\n",
    "    for i in range(len(a)):\n",
    "        row = []\n",
    "        for j in range(len(a[0])):\n",
    "            row.append(a[i][j]+b[i][j])\n",
    "        output.append(row)\n",
    "    return output\n",
    "\n",
    "\n",
    "\n",
    "def matrix_input_and_add(m,n):    #m and n is size of matrics\n",
    "    print(\"Enter matrix a: \")\n",
    "    a = []\n",
    "    for i in range(m):\n",
    "        row = []\n",
    "        for j in range(n):\n",
    "            row.append(int(input()))\n",
    "        a.append(row)\n",
    "    print(\"Matrix a is \",a)\n",
    "    print(\"Enter matrix b: \")\n",
    "    b = []\n",
    "    for i in range(m):\n",
    "        row = []\n",
    "        for j in range(n):\n",
    "            row.append(int(input()))\n",
    "        b.append(row)\n",
    "    print(\"matrix b is \",b)\n",
    "    addition = sum(a,b)\n",
    "    return addition\n",
    "\n",
    "result = matrix_input_and_add(3,3)\n",
    "result"
   ]
  },
  {
   "cell_type": "code",
   "execution_count": null,
   "id": "a3a41a2f",
   "metadata": {},
   "outputs": [],
   "source": [
    "2. Write a Python Program to Multiply Two Matrices?"
   ]
  },
  {
   "cell_type": "code",
   "execution_count": 2,
   "id": "cba9d143",
   "metadata": {},
   "outputs": [],
   "source": [
    "#Answer:\n",
    "A = [[1,2,3],[4,5,6],[7,8,9]]\n",
    "B = [[1,2],[4,5],[6,7]]\n",
    "\n",
    "C = [[0,0],[0,0],[0,0]]"
   ]
  },
  {
   "cell_type": "code",
   "execution_count": 3,
   "id": "015eca67",
   "metadata": {},
   "outputs": [
    {
     "name": "stdout",
     "output_type": "stream",
     "text": [
      "[27, 33]\n",
      "[60, 75]\n",
      "[93, 117]\n"
     ]
    }
   ],
   "source": [
    "for i in range(0,len(C)):\n",
    "    for j in range(0,len(C[0])):\n",
    "        for k in range(0,len(B)):\n",
    "            C[i][j] += A[i][k]*B[k][j]\n",
    "            \n",
    "for row in C:\n",
    "    print(row)"
   ]
  },
  {
   "cell_type": "code",
   "execution_count": null,
   "id": "d01f372c",
   "metadata": {},
   "outputs": [],
   "source": [
    "3. Write a Python Program to Transpose a Matrix?"
   ]
  },
  {
   "cell_type": "code",
   "execution_count": 4,
   "id": "2dfd2f1a",
   "metadata": {},
   "outputs": [
    {
     "name": "stdout",
     "output_type": "stream",
     "text": [
      "[[1, 4, 7], [2, 5, 8]]\n"
     ]
    }
   ],
   "source": [
    "#Answer:\n",
    "A = [[1,2],\n",
    "     [4,5],\n",
    "     [7,8]]\n",
    "C = [[0,0,0],\n",
    "     [0,0,0]]\n",
    "     \n",
    "for i in range(len(A)):\n",
    "    for j in range(len(A[0])):\n",
    "        C[j][i] = A[i][j]\n",
    "print(C)"
   ]
  },
  {
   "cell_type": "code",
   "execution_count": null,
   "id": "b2754299",
   "metadata": {},
   "outputs": [],
   "source": [
    "4. Write a Python Program to Sort Words in Alphabetic Order?"
   ]
  },
  {
   "cell_type": "code",
   "execution_count": 1,
   "id": "10887f58",
   "metadata": {},
   "outputs": [
    {
     "name": "stdout",
     "output_type": "stream",
     "text": [
      "Enter String hello my name is Gaurav Satam\n",
      "gaurav\n",
      "hello\n",
      "is\n",
      "my\n",
      "name\n",
      "satam\n"
     ]
    }
   ],
   "source": [
    "#Answer:\n",
    "a = input(\"Enter String \").lower()\n",
    "\n",
    "order = a.split()\n",
    "order.sort()\n",
    "for words in order:\n",
    "    print(words)"
   ]
  },
  {
   "cell_type": "code",
   "execution_count": null,
   "id": "e8da2d54",
   "metadata": {},
   "outputs": [],
   "source": [
    "5. Write a Python Program to Remove Punctuation From a String?"
   ]
  },
  {
   "cell_type": "code",
   "execution_count": 1,
   "id": "7107fb84",
   "metadata": {},
   "outputs": [
    {
     "name": "stdout",
     "output_type": "stream",
     "text": [
      "Enter String Hello my name is ---> Gaurav\n",
      "Hello my name is  Gaurav\n"
     ]
    }
   ],
   "source": [
    "#Answer:\n",
    "punctuation = '''''!()-[]{};:'\"\\,<>./?@#$%^&*_~''' \n",
    "a = input(\"Enter String \")\n",
    "\n",
    "cleared = \"\"\n",
    "\n",
    "for char in a:\n",
    "    if char not in punctuation:\n",
    "        cleared += char\n",
    "print(cleared)"
   ]
  }
 ],
 "metadata": {
  "kernelspec": {
   "display_name": "Python 3",
   "language": "python",
   "name": "python3"
  },
  "language_info": {
   "codemirror_mode": {
    "name": "ipython",
    "version": 3
   },
   "file_extension": ".py",
   "mimetype": "text/x-python",
   "name": "python",
   "nbconvert_exporter": "python",
   "pygments_lexer": "ipython3",
   "version": "3.8.8"
  }
 },
 "nbformat": 4,
 "nbformat_minor": 5
}
