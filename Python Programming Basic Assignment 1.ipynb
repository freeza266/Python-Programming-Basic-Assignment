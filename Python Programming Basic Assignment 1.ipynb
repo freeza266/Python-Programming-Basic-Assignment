{
 "cells": [
  {
   "cell_type": "code",
   "execution_count": null,
   "id": "7dc09a80",
   "metadata": {},
   "outputs": [],
   "source": [
    "Q.1 Write a Python program to print \"Hello Python\"?"
   ]
  },
  {
   "cell_type": "code",
   "execution_count": 1,
   "id": "374ca356",
   "metadata": {},
   "outputs": [
    {
     "name": "stdout",
     "output_type": "stream",
     "text": [
      "Enter Input: Hello Python\n",
      "Hello Python\n"
     ]
    }
   ],
   "source": [
    "#Answer:\n",
    "a = input(\"Enter Input: \")\n",
    "print(a)"
   ]
  },
  {
   "cell_type": "code",
   "execution_count": null,
   "id": "7fadfe10",
   "metadata": {},
   "outputs": [],
   "source": [
    "Q.2 Write a Python program to do arithmetical operations addition and division.?"
   ]
  },
  {
   "cell_type": "code",
   "execution_count": 2,
   "id": "cd413e6f",
   "metadata": {},
   "outputs": [
    {
     "name": "stdout",
     "output_type": "stream",
     "text": [
      "Enter Num.1: 10\n",
      "Enter Num.2: 2\n",
      "Enter Operation: addition\n",
      "addition is  12\n"
     ]
    }
   ],
   "source": [
    "#Answer:\n",
    "a = int(input(\"Enter Num.1: \"))\n",
    "b = int(input(\"Enter Num.2: \"))\n",
    "ops = input(\"Enter Operation: \")\n",
    "if ops == \"addition\":\n",
    "    c = a+b\n",
    "    print(\"addition is \",c)\n",
    "elif ops == \"division\":\n",
    "    d = a/b\n",
    "    print(\"Division is \",d)\n",
    "else:\n",
    "    print(\"Enter correct operation\")"
   ]
  },
  {
   "cell_type": "code",
   "execution_count": 3,
   "id": "153583d7",
   "metadata": {},
   "outputs": [
    {
     "name": "stdout",
     "output_type": "stream",
     "text": [
      "Enter Num.1: 10\n",
      "Enter Num.2: 2\n",
      "Enter Operation: division\n",
      "Division is  5.0\n"
     ]
    }
   ],
   "source": [
    "a = int(input(\"Enter Num.1: \"))\n",
    "b = int(input(\"Enter Num.2: \"))\n",
    "ops = input(\"Enter Operation: \")\n",
    "if ops == \"addition\":\n",
    "    c = a+b\n",
    "    print(\"addition is \",c)\n",
    "elif ops == \"division\":\n",
    "    d = a/b\n",
    "    print(\"Division is \",d)\n",
    "else:\n",
    "    print(\"Enter correct operation\")"
   ]
  },
  {
   "cell_type": "code",
   "execution_count": 4,
   "id": "59026eab",
   "metadata": {},
   "outputs": [
    {
     "name": "stdout",
     "output_type": "stream",
     "text": [
      "Enter Num.1: 10\n",
      "Enter Num.2: 5\n",
      "Enter Operation: ff\n",
      "Enter correct operation\n"
     ]
    }
   ],
   "source": [
    "a = int(input(\"Enter Num.1: \"))\n",
    "b = int(input(\"Enter Num.2: \"))\n",
    "ops = input(\"Enter Operation: \")\n",
    "if ops == \"addition\":\n",
    "    c = a+b\n",
    "    print(\"addition is \",c)\n",
    "elif ops == \"division\":\n",
    "    d = a/b\n",
    "    print(\"Division is \",d)\n",
    "else:\n",
    "    print(\"Enter correct operation\")"
   ]
  },
  {
   "cell_type": "code",
   "execution_count": null,
   "id": "d9a17c9f",
   "metadata": {},
   "outputs": [],
   "source": [
    "Q.3 Write a Python program to find the area of a triangle?"
   ]
  },
  {
   "cell_type": "code",
   "execution_count": 5,
   "id": "4a54dd07",
   "metadata": {},
   "outputs": [
    {
     "name": "stdout",
     "output_type": "stream",
     "text": [
      "10.0\n"
     ]
    }
   ],
   "source": [
    "#Answer:\n",
    "def area_of_triangle(base,height):\n",
    "    area = (base*height)/2\n",
    "    print(area)\n",
    "    \n",
    "a = area_of_triangle(10,2)"
   ]
  },
  {
   "cell_type": "code",
   "execution_count": null,
   "id": "62c0b705",
   "metadata": {},
   "outputs": [],
   "source": [
    "Q.4 Write a Python program to swap two variables?"
   ]
  },
  {
   "cell_type": "code",
   "execution_count": 2,
   "id": "ec5d35d9",
   "metadata": {},
   "outputs": [
    {
     "name": "stdout",
     "output_type": "stream",
     "text": [
      "Enter num_1: 10\n",
      "10\n",
      "Enter num_2: 20\n",
      "20\n",
      "20 and 10 are new values of x and y respectively\n"
     ]
    }
   ],
   "source": [
    "#Answer:\n",
    "x = input(\"Enter num_1: \")\n",
    "print(x)\n",
    "y = input(\"Enter num_2: \")\n",
    "print(y)\n",
    "\n",
    "temp = x\n",
    "x = y\n",
    "y = temp\n",
    "\n",
    "print(\"{} and {} are new values of x and y respectively\".format(x,y))"
   ]
  },
  {
   "cell_type": "code",
   "execution_count": null,
   "id": "cfaf10cd",
   "metadata": {},
   "outputs": [],
   "source": [
    "Q.5 Write a Python program to generate a random number?"
   ]
  },
  {
   "cell_type": "code",
   "execution_count": 3,
   "id": "fdfe52ef",
   "metadata": {},
   "outputs": [
    {
     "name": "stdout",
     "output_type": "stream",
     "text": [
      "0.31992160435910366\n"
     ]
    }
   ],
   "source": [
    "#Answer:\n",
    "import random\n",
    "rndno = random.random()\n",
    "print(rndno)"
   ]
  }
 ],
 "metadata": {
  "kernelspec": {
   "display_name": "Python 3",
   "language": "python",
   "name": "python3"
  },
  "language_info": {
   "codemirror_mode": {
    "name": "ipython",
    "version": 3
   },
   "file_extension": ".py",
   "mimetype": "text/x-python",
   "name": "python",
   "nbconvert_exporter": "python",
   "pygments_lexer": "ipython3",
   "version": "3.8.8"
  }
 },
 "nbformat": 4,
 "nbformat_minor": 5
}
